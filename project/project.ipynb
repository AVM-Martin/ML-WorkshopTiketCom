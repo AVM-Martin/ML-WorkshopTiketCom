{
 "cells": [
  {
   "cell_type": "markdown",
   "metadata": {
    "colab_type": "text",
    "id": "UBfHp6bLrCqs"
   },
   "source": [
    "# Uber Demand\n"
   ]
  },
  {
   "cell_type": "markdown",
   "metadata": {
    "colab_type": "text",
    "id": "HnctomFhqhqh"
   },
   "source": [
    "## Problem Overview\n"
   ]
  },
  {
   "cell_type": "markdown",
   "metadata": {
    "colab_type": "text",
    "id": "nP9RRUSOr4bv"
   },
   "source": [
    "### Pasenger Hotspots\n",
    "\n",
    "Uber is a US-based ride-hailing service like Gojek and Grab. To better assign drivers and adjust prices, Uber has to track hotspots (areas with high number of bookings) in its service area throughout the days. As shown in the picture, areas with dark red color are hotspots. When these hotspots occur, Uber will notify drivers so many of them can go around the area to find passengers.\n",
    "\n",
    "A team of data scientists at Uber always monitor booking records and construct a heatmap. They will cluster bookings that happen around the same area based on their coordinate.\n",
    "\n",
    "They then answer the following questions. How many clusters are there in every hourly interval? What is the demand in an area at a specified hour on a specified day?\n"
   ]
  },
  {
   "cell_type": "markdown",
   "metadata": {
    "colab_type": "text",
    "id": "elFohitgq82v"
   },
   "source": [
    "## Dataset\n"
   ]
  },
  {
   "cell_type": "markdown",
   "metadata": {
    "colab_type": "text",
    "id": "1uYYg4Xzr80h"
   },
   "source": [
    "### Trip Records\n",
    "\n",
    "The dataset contains all uber trips happened in Chicago from January 1st, 2019. The following is the list of important columns.\n",
    "\n",
    "  * Trip id\n",
    "  * Trip start timestamp\n",
    "  * Trip end timestamp\n",
    "  * Pickup centroid latitude\n",
    "  * Pickup centroid longitude\n",
    "\n",
    "The dataset temporarily could be accessed on [http://35.225.11.165/Dataset/Taxi_Trips-2.csv](http://35.225.11.165/Dataset/Taxi_Trips-2.csv)\n"
   ]
  },
  {
   "cell_type": "markdown",
   "metadata": {
    "colab_type": "text",
    "id": "2-n-CdrCsBke"
   },
   "source": [
    "## Analysis\n"
   ]
  },
  {
   "cell_type": "markdown",
   "metadata": {
    "colab_type": "text",
    "id": "EPARs0rWsDc8"
   },
   "source": [
    "### Number of Hotspots\n",
    "\n",
    "Can you find out how many clusters there are in every interval hour on a specific day? What is the highest demand of each time and day? It would be better if you can visualize the clusters in a scatter plot.\n"
   ]
  },
  {
   "cell_type": "markdown",
   "metadata": {
    "colab_type": "text",
    "id": "BF8eBhiusH9g"
   },
   "source": [
    "### Demand Prediction\n",
    "\n",
    "Define small squares of geographical area based on longitude and latitude. Predict demand around each areas that will happened at a specific time and on a specific day. The simplest demand prediction is the average demand on a specific time and day. Visualise the heatmaps if possible.\n"
   ]
  },
  {
   "cell_type": "markdown",
   "metadata": {
    "colab_type": "text",
    "id": "8OfslzY3sLxH"
   },
   "source": [
    "## Presentation Structure\n"
   ]
  },
  {
   "cell_type": "markdown",
   "metadata": {
    "colab_type": "text",
    "id": "u0PDVSkbsQw1"
   },
   "source": [
    "  * Start from problem overview.\n",
    "  * Explain how you explore the data\n",
    "  * Explain data preprocessing process that you do.\n",
    "  * Predictive model that you build\n",
    "  * Present them in great visualizations\n",
    "  * Results and conclusion\n",
    "  "
   ]
  },
  {
   "cell_type": "markdown",
   "metadata": {
    "colab_type": "text",
    "id": "sN8UmFq9sULE"
   },
   "source": [
    "# Solution"
   ]
  },
  {
   "cell_type": "markdown",
   "metadata": {
    "colab_type": "text",
    "id": "CIRDu-MbseH1"
   },
   "source": [
    "## Import library and datas"
   ]
  },
  {
   "cell_type": "code",
   "execution_count": 1,
   "metadata": {
    "colab": {},
    "colab_type": "code",
    "id": "fndZAP6ZsXN1"
   },
   "outputs": [],
   "source": [
    "from datetime import datetime\n",
    "\n",
    "import ipywidgets\n",
    "\n",
    "import time\n",
    "\n",
    "import gmaps\n",
    "\n",
    "from matplotlib import pyplot\n",
    "\n",
    "import pandas\n",
    "\n",
    "from sklearn.cluster import KMeans\n",
    "\n",
    "import constants\n",
    "\n",
    "gmaps.configure(api_key=constants.API_KEY)"
   ]
  },
  {
   "cell_type": "code",
   "execution_count": 2,
   "metadata": {
    "colab": {
     "base_uri": "https://localhost:8080/",
     "height": 71
    },
    "colab_type": "code",
    "id": "IKunBP7gshAm",
    "outputId": "b1949a6f-abaf-40f2-98fa-e749cabebda2"
   },
   "outputs": [
    {
     "name": "stderr",
     "output_type": "stream",
     "text": [
      "/usr/local/lib/python3.6/dist-packages/IPython/core/interactiveshell.py:3058: DtypeWarning: Columns (5,10,13,14) have mixed types. Specify dtype option on import or set low_memory=False.\n",
      "  interactivity=interactivity, compiler=compiler, result=result)\n"
     ]
    }
   ],
   "source": [
    "# raw_datas = pandas.read_csv(\"http://35.225.11.165/Dataset/Taxi_Trips-2.csv\")\n",
    "raw_datas = pandas.read_csv(\"../../Taxi_Trips-2.csv\")"
   ]
  },
  {
   "cell_type": "markdown",
   "metadata": {},
   "source": [
    "## Data Cleaning"
   ]
  },
  {
   "cell_type": "code",
   "execution_count": 3,
   "metadata": {
    "colab": {},
    "colab_type": "code",
    "id": "xGe_CgqZyM3k"
   },
   "outputs": [],
   "source": [
    "clean_datas = raw_datas.rename(\n",
    "    columns={\n",
    "        \"Trip ID\"                  : \"id\",\n",
    "        \"Trip Start Timestamp\"     : \"start_time\",\n",
    "        \"Trip End Timestamp\"       : \"end_time\",\n",
    "        \"Pickup Centroid Latitude\" : \"pickup_lat\",\n",
    "        \"Pickup Centroid Longitude\": \"pickup_long\",\n",
    "    }\n",
    ").drop(\n",
    "    columns=[\n",
    "        \"Taxi ID\",\n",
    "        \"Trip Seconds\",\n",
    "        \"Trip Miles\",\n",
    "        \"Pickup Census Tract\",\n",
    "        \"Dropoff Census Tract\",\n",
    "        \"Pickup Community Area\",\n",
    "        \"Dropoff Community Area\",\n",
    "        \"Fare\",\n",
    "        \"Tips\",\n",
    "        \"Tolls\",\n",
    "        \"Extras\",\n",
    "        \"Trip Total\",\n",
    "        \"Payment Type\",\n",
    "        \"Company\",\n",
    "        \"Pickup Centroid Location\",\n",
    "        \"Dropoff Centroid Latitude\",\n",
    "        \"Dropoff Centroid Longitude\",\n",
    "        \"Dropoff Centroid  Location\",\n",
    "    ]\n",
    ")\n",
    "\n",
    "clean_datas = clean_datas.drop_duplicates(\n",
    ").dropna(\n",
    ").reset_index(\n",
    "    drop=True,\n",
    ")\n",
    "\n",
    "def get_interval(s):\n",
    "    _temp = datetime.strptime(s, \"%m/%d/%Y %I:%M:%S %p\")\n",
    "    return 24 * _temp.weekday() + _temp.hour\n",
    "\n",
    "def get_unix(s):\n",
    "    _temp = datetime.strptime(s, \"%m/%d/%Y %I:%M:%S %p\")\n",
    "    return (_temp - datetime(1970,1,1)).total_seconds()\n",
    "\n",
    "clean_datas[\"start_time_segment\"] = clean_datas.start_time.apply(get_interval)\n",
    "clean_datas[\"start_time_unix\"] = clean_datas.start_time.apply(get_unix)\n",
    "clean_datas[\"end_time_unix\"] = clean_datas.end_time.apply(get_unix)\n",
    "\n",
    "clean_datas = clean_datas[\n",
    "    (0 <= clean_datas.end_time_unix-clean_datas.start_time_unix)\n",
    "    & (clean_datas.end_time_unix-clean_datas.start_time_unix < 90*3600)\n",
    "].drop(\n",
    "    columns=[\n",
    "        \"start_time_unix\",\n",
    "        \"end_time_unix\",\n",
    "    ]\n",
    ")"
   ]
  },
  {
   "cell_type": "markdown",
   "metadata": {
    "colab": {},
    "colab_type": "code",
    "id": "bqTTEQPwzPfS"
   },
   "source": [
    "## Data Grouping (based on time segment)"
   ]
  },
  {
   "cell_type": "code",
   "execution_count": 4,
   "metadata": {},
   "outputs": [],
   "source": [
    "segmented_datas = [\n",
    "    clean_datas[\n",
    "        clean_datas.start_time_segment == i\n",
    "    ].reset_index(\n",
    "        drop=True,\n",
    "    )\n",
    "    for i in range(168)\n",
    "]"
   ]
  },
  {
   "cell_type": "code",
   "execution_count": 5,
   "metadata": {},
   "outputs": [
    {
     "data": {
      "image/png": "[encoded data removed]",
      "text/plain": [
       "<Figure size 1080x360 with 1 Axes>"
      ]
     },
     "metadata": {
      "needs_background": "light"
     },
     "output_type": "display_data"
    }
   ],
   "source": [
    "segmented_datas_length = pandas.DataFrame({\n",
    "    \"len\": [len(data) for data in segmented_datas],\n",
    "})\n",
    "\n",
    "_ = pyplot.figure(figsize=(15,5))\n",
    "_ = pyplot.title(\"Number of demand per hour\")\n",
    "_ = pyplot.plot(segmented_datas_length)"
   ]
  },
  {
   "cell_type": "markdown",
   "metadata": {},
   "source": [
    "Based on this chart, we can analyze and predict the pickup time of the demand"
   ]
  },
  {
   "cell_type": "markdown",
   "metadata": {},
   "source": [
    "## Data Grouping (based on coordinates)"
   ]
  },
  {
   "cell_type": "code",
   "execution_count": 6,
   "metadata": {
    "scrolled": false
   },
   "outputs": [],
   "source": [
    "reduced_datas = [\n",
    "    segmented_datas[i].groupby([\n",
    "        \"pickup_lat\",\n",
    "        \"pickup_long\",\n",
    "    ]).count(\n",
    "    ).reset_index(\n",
    "    )\n",
    "    for i in range(168)\n",
    "]\n",
    "\n",
    "pickup_coords = [\n",
    "    reduced_datas[i][[\"pickup_lat\", \"pickup_long\"]]\n",
    "    for i in range(168)\n",
    "]\n",
    "pickup_frequency = [\n",
    "    reduced_datas[i][\"id\"]\n",
    "    for i in range(168)\n",
    "]"
   ]
  },
  {
   "cell_type": "markdown",
   "metadata": {},
   "source": [
    "## Data Clustering using KMeans (based on coordinates)"
   ]
  },
  {
   "cell_type": "code",
   "execution_count": 7,
   "metadata": {},
   "outputs": [],
   "source": [
    "clustering_centers = []\n",
    "\n",
    "for i in range(168):\n",
    "    _datas = [\n",
    "        (data.pickup_lat, data.pickup_long)\n",
    "        for data in segmented_datas[i].itertuples()\n",
    "    ]\n",
    "    \n",
    "    clusterer = KMeans(n_clusters=constants.N_CLUSTERS).fit(_datas)\n",
    "    clustering_centers.append(clusterer.cluster_centers_)"
   ]
  },
  {
   "cell_type": "markdown",
   "metadata": {},
   "source": [
    "# Data Visualization"
   ]
  },
  {
   "cell_type": "code",
   "execution_count": 8,
   "metadata": {},
   "outputs": [],
   "source": [
    "class HeatmapAnimation(object):\n",
    "    def __init__(self, datasets, weights, centers, delay):\n",
    "        self._datasets = datasets\n",
    "        self._weights = weights\n",
    "        self._centers = centers\n",
    "        self._widgets = ipywidgets.Label(\n",
    "            value=\"\",\n",
    "            disabled=True,\n",
    "        )\n",
    "\n",
    "        self._figure = gmaps.figure(\n",
    "            center=(41.90, -87.75),\n",
    "            zoom_level=10.8,\n",
    "        )\n",
    "        self._current_index = 0\n",
    "\n",
    "        self._heatmap_layer = gmaps.heatmap_layer(\n",
    "            datasets[self._current_index],\n",
    "            weights=weights[self._current_index],\n",
    "        )\n",
    "        self._center_layer = gmaps.marker_layer(\n",
    "            centers[self._current_index],\n",
    "        )\n",
    "        self._figure.add_layer(self._heatmap_layer)\n",
    "        self._figure.add_layer(self._center_layer)\n",
    "        self._delay = delay\n",
    "\n",
    "    def render(self):\n",
    "        display(self._figure)\n",
    "        display(self._widgets)\n",
    "\n",
    "    def start_animation(self):\n",
    "        while True:\n",
    "            self._current_index = (self._current_index + 1) % len(self._datasets)\n",
    "            self._render_current_dataset()\n",
    "            time.sleep(self._delay)\n",
    "\n",
    "    def _render_current_dataset(self):\n",
    "        self._heatmap_layer.locations = self._datasets[self._current_index]\n",
    "        self._heatmap_layer.weights = self._weights[self._current_index]\n",
    "        self._center_layer.locations = self._centers[self._current_index]\n",
    "        self._widgets.value = \"Day {} Interval {}\".format(\n",
    "            constants.WEEKDAYS[self._current_index//24],\n",
    "            self._current_index%24,\n",
    "        )"
   ]
  },
  {
   "cell_type": "code",
   "execution_count": 9,
   "metadata": {
    "scrolled": false
   },
   "outputs": [
    {
     "data": {
      "application/vnd.jupyter.widget-view+json": {
       "model_id": "bc9dbaf63a0b4fccb9a14546441a6061",
       "version_major": 2,
       "version_minor": 0
      },
      "text/plain": [
       "Figure(layout=FigureLayout(height='420px'))"
      ]
     },
     "metadata": {},
     "output_type": "display_data"
    },
    {
     "data": {
      "application/vnd.jupyter.widget-view+json": {
       "model_id": "066d5cd5c2104ce890d70cb534ebb95a",
       "version_major": 2,
       "version_minor": 0
      },
      "text/plain": [
       "Label(value='')"
      ]
     },
     "metadata": {},
     "output_type": "display_data"
    },
    {
     "ename": "KeyboardInterrupt",
     "evalue": "",
     "output_type": "error",
     "traceback": [
      "\u001b[0;31m---------------------------------------------------------------------------\u001b[0m",
      "\u001b[0;31mKeyboardInterrupt\u001b[0m                         Traceback (most recent call last)",
      "\u001b[0;32m<ipython-input-9-4a3220ce4a3d>\u001b[0m in \u001b[0;36m<module>\u001b[0;34m\u001b[0m\n\u001b[1;32m      6\u001b[0m )\n\u001b[1;32m      7\u001b[0m \u001b[0manimation\u001b[0m\u001b[0;34m.\u001b[0m\u001b[0mrender\u001b[0m\u001b[0;34m(\u001b[0m\u001b[0;34m)\u001b[0m\u001b[0;34m\u001b[0m\u001b[0;34m\u001b[0m\u001b[0m\n\u001b[0;32m----> 8\u001b[0;31m \u001b[0manimation\u001b[0m\u001b[0;34m.\u001b[0m\u001b[0mstart_animation\u001b[0m\u001b[0;34m(\u001b[0m\u001b[0;34m)\u001b[0m\u001b[0;34m\u001b[0m\u001b[0;34m\u001b[0m\u001b[0m\n\u001b[0m",
      "\u001b[0;32m<ipython-input-8-176b8396b3e1>\u001b[0m in \u001b[0;36mstart_animation\u001b[0;34m(self)\u001b[0m\n\u001b[1;32m     34\u001b[0m             \u001b[0mself\u001b[0m\u001b[0;34m.\u001b[0m\u001b[0m_current_index\u001b[0m \u001b[0;34m=\u001b[0m \u001b[0;34m(\u001b[0m\u001b[0mself\u001b[0m\u001b[0;34m.\u001b[0m\u001b[0m_current_index\u001b[0m \u001b[0;34m+\u001b[0m \u001b[0;36m1\u001b[0m\u001b[0;34m)\u001b[0m \u001b[0;34m%\u001b[0m \u001b[0mlen\u001b[0m\u001b[0;34m(\u001b[0m\u001b[0mself\u001b[0m\u001b[0;34m.\u001b[0m\u001b[0m_datasets\u001b[0m\u001b[0;34m)\u001b[0m\u001b[0;34m\u001b[0m\u001b[0;34m\u001b[0m\u001b[0m\n\u001b[1;32m     35\u001b[0m             \u001b[0mself\u001b[0m\u001b[0;34m.\u001b[0m\u001b[0m_render_current_dataset\u001b[0m\u001b[0;34m(\u001b[0m\u001b[0;34m)\u001b[0m\u001b[0;34m\u001b[0m\u001b[0;34m\u001b[0m\u001b[0m\n\u001b[0;32m---> 36\u001b[0;31m             \u001b[0mtime\u001b[0m\u001b[0;34m.\u001b[0m\u001b[0msleep\u001b[0m\u001b[0;34m(\u001b[0m\u001b[0mself\u001b[0m\u001b[0;34m.\u001b[0m\u001b[0m_delay\u001b[0m\u001b[0;34m)\u001b[0m\u001b[0;34m\u001b[0m\u001b[0;34m\u001b[0m\u001b[0m\n\u001b[0m\u001b[1;32m     37\u001b[0m \u001b[0;34m\u001b[0m\u001b[0m\n\u001b[1;32m     38\u001b[0m     \u001b[0;32mdef\u001b[0m \u001b[0m_render_current_dataset\u001b[0m\u001b[0;34m(\u001b[0m\u001b[0mself\u001b[0m\u001b[0;34m)\u001b[0m\u001b[0;34m:\u001b[0m\u001b[0;34m\u001b[0m\u001b[0;34m\u001b[0m\u001b[0m\n",
      "\u001b[0;31mKeyboardInterrupt\u001b[0m: "
     ]
    }
   ],
   "source": [
    "animation = HeatmapAnimation(\n",
    "    pickup_coords,\n",
    "    pickup_frequency,\n",
    "    clustering_centers,\n",
    "    0.8,\n",
    ")\n",
    "animation.render()\n",
    "animation.start_animation()"
   ]
  },
  {
   "cell_type": "code",
   "execution_count": null,
   "metadata": {},
   "outputs": [],
   "source": []
  }
 ],
 "metadata": {
  "colab": {
   "collapsed_sections": [
    "UBfHp6bLrCqs",
    "HnctomFhqhqh",
    "elFohitgq82v",
    "2-n-CdrCsBke",
    "8OfslzY3sLxH"
   ],
   "name": "project.ipynb",
   "provenance": [],
   "version": "0.3.2"
  },
  "kernelspec": {
   "display_name": "Python 3",
   "language": "python",
   "name": "python3"
  },
  "language_info": {
   "codemirror_mode": {
    "name": "ipython",
    "version": 3
   },
   "file_extension": ".py",
   "mimetype": "text/x-python",
   "name": "python",
   "nbconvert_exporter": "python",
   "pygments_lexer": "ipython3",
   "version": "3.6.8"
  }
 },
 "nbformat": 4,
 "nbformat_minor": 1
}
